{
  "nbformat": 4,
  "nbformat_minor": 0,
  "metadata": {
    "colab": {
      "provenance": [],
      "gpuType": "T4"
    },
    "kernelspec": {
      "name": "python3",
      "display_name": "Python 3"
    },
    "language_info": {
      "name": "python"
    },
    "accelerator": "GPU"
  },
  "cells": [
    {
      "cell_type": "code",
      "source": [
        "#Importing required libraries"
      ],
      "metadata": {
        "id": "0TJP8B4JY3xK"
      },
      "execution_count": null,
      "outputs": []
    },
    {
      "cell_type": "code",
      "execution_count": null,
      "metadata": {
        "id": "2k-8U_SLqNPt"
      },
      "outputs": [],
      "source": [
        "import tensorflow as tf\n",
        "from tensorflow.keras.preprocessing.text import Tokenizer\n",
        "from tensorflow.keras.layers import Embedding, LSTM, Dense\n",
        "from tensorflow.keras.models import Sequential\n",
        "from tensorflow.keras.utils import to_categorical\n",
        "from tensorflow.keras.optimizers import Adam\n",
        "import pickle\n",
        "import numpy as np\n",
        "import os"
      ]
    },
    {
      "cell_type": "code",
      "source": [
        "from google.colab import files\n",
        "myfile= files.upload()"
      ],
      "metadata": {
        "colab": {
          "base_uri": "https://localhost:8080/",
          "height": 73
        },
        "id": "XEhP2H5q5Gpn",
        "outputId": "359dbd35-f046-4c21-ffee-dba468abb43d"
      },
      "execution_count": null,
      "outputs": [
        {
          "output_type": "display_data",
          "data": {
            "text/plain": [
              "<IPython.core.display.HTML object>"
            ],
            "text/html": [
              "\n",
              "     <input type=\"file\" id=\"files-4b6a0b64-4302-4c63-ad53-1906f6ad1ad1\" name=\"files[]\" multiple disabled\n",
              "        style=\"border:none\" />\n",
              "     <output id=\"result-4b6a0b64-4302-4c63-ad53-1906f6ad1ad1\">\n",
              "      Upload widget is only available when the cell has been executed in the\n",
              "      current browser session. Please rerun this cell to enable.\n",
              "      </output>\n",
              "      <script>// Copyright 2017 Google LLC\n",
              "//\n",
              "// Licensed under the Apache License, Version 2.0 (the \"License\");\n",
              "// you may not use this file except in compliance with the License.\n",
              "// You may obtain a copy of the License at\n",
              "//\n",
              "//      http://www.apache.org/licenses/LICENSE-2.0\n",
              "//\n",
              "// Unless required by applicable law or agreed to in writing, software\n",
              "// distributed under the License is distributed on an \"AS IS\" BASIS,\n",
              "// WITHOUT WARRANTIES OR CONDITIONS OF ANY KIND, either express or implied.\n",
              "// See the License for the specific language governing permissions and\n",
              "// limitations under the License.\n",
              "\n",
              "/**\n",
              " * @fileoverview Helpers for google.colab Python module.\n",
              " */\n",
              "(function(scope) {\n",
              "function span(text, styleAttributes = {}) {\n",
              "  const element = document.createElement('span');\n",
              "  element.textContent = text;\n",
              "  for (const key of Object.keys(styleAttributes)) {\n",
              "    element.style[key] = styleAttributes[key];\n",
              "  }\n",
              "  return element;\n",
              "}\n",
              "\n",
              "// Max number of bytes which will be uploaded at a time.\n",
              "const MAX_PAYLOAD_SIZE = 100 * 1024;\n",
              "\n",
              "function _uploadFiles(inputId, outputId) {\n",
              "  const steps = uploadFilesStep(inputId, outputId);\n",
              "  const outputElement = document.getElementById(outputId);\n",
              "  // Cache steps on the outputElement to make it available for the next call\n",
              "  // to uploadFilesContinue from Python.\n",
              "  outputElement.steps = steps;\n",
              "\n",
              "  return _uploadFilesContinue(outputId);\n",
              "}\n",
              "\n",
              "// This is roughly an async generator (not supported in the browser yet),\n",
              "// where there are multiple asynchronous steps and the Python side is going\n",
              "// to poll for completion of each step.\n",
              "// This uses a Promise to block the python side on completion of each step,\n",
              "// then passes the result of the previous step as the input to the next step.\n",
              "function _uploadFilesContinue(outputId) {\n",
              "  const outputElement = document.getElementById(outputId);\n",
              "  const steps = outputElement.steps;\n",
              "\n",
              "  const next = steps.next(outputElement.lastPromiseValue);\n",
              "  return Promise.resolve(next.value.promise).then((value) => {\n",
              "    // Cache the last promise value to make it available to the next\n",
              "    // step of the generator.\n",
              "    outputElement.lastPromiseValue = value;\n",
              "    return next.value.response;\n",
              "  });\n",
              "}\n",
              "\n",
              "/**\n",
              " * Generator function which is called between each async step of the upload\n",
              " * process.\n",
              " * @param {string} inputId Element ID of the input file picker element.\n",
              " * @param {string} outputId Element ID of the output display.\n",
              " * @return {!Iterable<!Object>} Iterable of next steps.\n",
              " */\n",
              "function* uploadFilesStep(inputId, outputId) {\n",
              "  const inputElement = document.getElementById(inputId);\n",
              "  inputElement.disabled = false;\n",
              "\n",
              "  const outputElement = document.getElementById(outputId);\n",
              "  outputElement.innerHTML = '';\n",
              "\n",
              "  const pickedPromise = new Promise((resolve) => {\n",
              "    inputElement.addEventListener('change', (e) => {\n",
              "      resolve(e.target.files);\n",
              "    });\n",
              "  });\n",
              "\n",
              "  const cancel = document.createElement('button');\n",
              "  inputElement.parentElement.appendChild(cancel);\n",
              "  cancel.textContent = 'Cancel upload';\n",
              "  const cancelPromise = new Promise((resolve) => {\n",
              "    cancel.onclick = () => {\n",
              "      resolve(null);\n",
              "    };\n",
              "  });\n",
              "\n",
              "  // Wait for the user to pick the files.\n",
              "  const files = yield {\n",
              "    promise: Promise.race([pickedPromise, cancelPromise]),\n",
              "    response: {\n",
              "      action: 'starting',\n",
              "    }\n",
              "  };\n",
              "\n",
              "  cancel.remove();\n",
              "\n",
              "  // Disable the input element since further picks are not allowed.\n",
              "  inputElement.disabled = true;\n",
              "\n",
              "  if (!files) {\n",
              "    return {\n",
              "      response: {\n",
              "        action: 'complete',\n",
              "      }\n",
              "    };\n",
              "  }\n",
              "\n",
              "  for (const file of files) {\n",
              "    const li = document.createElement('li');\n",
              "    li.append(span(file.name, {fontWeight: 'bold'}));\n",
              "    li.append(span(\n",
              "        `(${file.type || 'n/a'}) - ${file.size} bytes, ` +\n",
              "        `last modified: ${\n",
              "            file.lastModifiedDate ? file.lastModifiedDate.toLocaleDateString() :\n",
              "                                    'n/a'} - `));\n",
              "    const percent = span('0% done');\n",
              "    li.appendChild(percent);\n",
              "\n",
              "    outputElement.appendChild(li);\n",
              "\n",
              "    const fileDataPromise = new Promise((resolve) => {\n",
              "      const reader = new FileReader();\n",
              "      reader.onload = (e) => {\n",
              "        resolve(e.target.result);\n",
              "      };\n",
              "      reader.readAsArrayBuffer(file);\n",
              "    });\n",
              "    // Wait for the data to be ready.\n",
              "    let fileData = yield {\n",
              "      promise: fileDataPromise,\n",
              "      response: {\n",
              "        action: 'continue',\n",
              "      }\n",
              "    };\n",
              "\n",
              "    // Use a chunked sending to avoid message size limits. See b/62115660.\n",
              "    let position = 0;\n",
              "    do {\n",
              "      const length = Math.min(fileData.byteLength - position, MAX_PAYLOAD_SIZE);\n",
              "      const chunk = new Uint8Array(fileData, position, length);\n",
              "      position += length;\n",
              "\n",
              "      const base64 = btoa(String.fromCharCode.apply(null, chunk));\n",
              "      yield {\n",
              "        response: {\n",
              "          action: 'append',\n",
              "          file: file.name,\n",
              "          data: base64,\n",
              "        },\n",
              "      };\n",
              "\n",
              "      let percentDone = fileData.byteLength === 0 ?\n",
              "          100 :\n",
              "          Math.round((position / fileData.byteLength) * 100);\n",
              "      percent.textContent = `${percentDone}% done`;\n",
              "\n",
              "    } while (position < fileData.byteLength);\n",
              "  }\n",
              "\n",
              "  // All done.\n",
              "  yield {\n",
              "    response: {\n",
              "      action: 'complete',\n",
              "    }\n",
              "  };\n",
              "}\n",
              "\n",
              "scope.google = scope.google || {};\n",
              "scope.google.colab = scope.google.colab || {};\n",
              "scope.google.colab._files = {\n",
              "  _uploadFiles,\n",
              "  _uploadFilesContinue,\n",
              "};\n",
              "})(self);\n",
              "</script> "
            ]
          },
          "metadata": {}
        },
        {
          "output_type": "stream",
          "name": "stdout",
          "text": [
            "Saving 1661-0.txt to 1661-0.txt\n"
          ]
        }
      ]
    },
    {
      "cell_type": "code",
      "source": [
        "#Load and pre-process the data"
      ],
      "metadata": {
        "id": "C_GqRxJnZBst"
      },
      "execution_count": null,
      "outputs": []
    },
    {
      "cell_type": "code",
      "source": [
        "file= open(\"1661-0.txt\", \"r\", encoding= \"utf8\")\n",
        "\n",
        "#storing file in a list\n",
        "lines= []\n",
        "for i in file:\n",
        "  lines.append(i)\n",
        "\n",
        "#converting list to string\n",
        "data= \"\"\n",
        "for i in lines:\n",
        "  data= \" \". join(lines)\n",
        "\n",
        "#replacing unnecessary stuff with space\n",
        "data= data.replace(\"\\n\",\"\").replace(\"\\r\",\"\").replace(\"\\ufeff\",\"\").replace('\"',\"\").replace('\"',\"\") #newline, carriage return, unicode character, quote\n",
        "\n",
        "#remove unnecessary spaces\n",
        "data= data.split()\n",
        "data= \" \".join(data)\n",
        "data[:500]"
      ],
      "metadata": {
        "colab": {
          "base_uri": "https://localhost:8080/",
          "height": 87
        },
        "id": "ociWmwv6rQDy",
        "outputId": "265d32d9-040a-478b-8a24-da3f31428453"
      },
      "execution_count": null,
      "outputs": [
        {
          "output_type": "execute_result",
          "data": {
            "text/plain": [
              "\"Project Gutenberg's The Adventures of Sherlock Holmes, by Arthur Conan Doyle This eBook is for the use of anyone anywhere at no cost and with almost no restrictions whatsoever. You may copy it, give it away or re-use it under the terms of the Project Gutenberg License included with this eBook or online at www.gutenberg.net Title: The Adventures of Sherlock Holmes Author: Arthur Conan Doyle Release Date: November 29, 2002 [EBook #1661] Last Updated: May 20, 2019 Language: English Character set en\""
            ],
            "application/vnd.google.colaboratory.intrinsic+json": {
              "type": "string"
            }
          },
          "metadata": {},
          "execution_count": 4
        }
      ]
    },
    {
      "cell_type": "code",
      "source": [
        "len(data)"
      ],
      "metadata": {
        "id": "zWa7QFJ6sQdc",
        "colab": {
          "base_uri": "https://localhost:8080/"
        },
        "outputId": "64ba19e8-0997-48a1-f968-64eba3275c6d"
      },
      "execution_count": null,
      "outputs": [
        {
          "output_type": "execute_result",
          "data": {
            "text/plain": [
              "578728"
            ]
          },
          "metadata": {},
          "execution_count": 5
        }
      ]
    },
    {
      "cell_type": "code",
      "source": [
        "#applying tokenization"
      ],
      "metadata": {
        "id": "GSejSD2bumJh"
      },
      "execution_count": null,
      "outputs": []
    },
    {
      "cell_type": "code",
      "source": [
        "tokenizer= Tokenizer()\n",
        "tokenizer.fit_on_texts([data])\n",
        "\n",
        "#saving the tokenizer for predict function\n",
        "pickle.dump(tokenizer, open(\"token.pkl\",\"wb\"))\n",
        "\n",
        "sequence_data= tokenizer.texts_to_sequences([data])[0]\n",
        "sequence_data[:10]"
      ],
      "metadata": {
        "id": "mNMMOknbs5lY",
        "colab": {
          "base_uri": "https://localhost:8080/"
        },
        "outputId": "2fa06059-ba80-473d-ad94-f513d30f41e4"
      },
      "execution_count": null,
      "outputs": [
        {
          "output_type": "execute_result",
          "data": {
            "text/plain": [
              "[145, 4789, 1, 1020, 4, 128, 34, 45, 611, 2235]"
            ]
          },
          "metadata": {},
          "execution_count": 6
        }
      ]
    },
    {
      "cell_type": "code",
      "source": [
        "len(sequence_data) #now each unique word have a numeric representation, filtering punctuations and white spaces"
      ],
      "metadata": {
        "colab": {
          "base_uri": "https://localhost:8080/"
        },
        "id": "h-uZ-o78tthw",
        "outputId": "3b455365-6905-47e2-c62a-301cace9a071"
      },
      "execution_count": null,
      "outputs": [
        {
          "output_type": "execute_result",
          "data": {
            "text/plain": [
              "111252"
            ]
          },
          "metadata": {},
          "execution_count": 7
        }
      ]
    },
    {
      "cell_type": "code",
      "source": [
        "vocab_size= len(tokenizer.word_index)+1\n",
        "vocab_size #number of unique words"
      ],
      "metadata": {
        "id": "bKKTUfIwwbhu",
        "colab": {
          "base_uri": "https://localhost:8080/"
        },
        "outputId": "3bb79777-9c9f-4a9f-945a-523f6da73f67"
      },
      "execution_count": null,
      "outputs": [
        {
          "output_type": "execute_result",
          "data": {
            "text/plain": [
              "8931"
            ]
          },
          "metadata": {},
          "execution_count": 8
        }
      ]
    },
    {
      "cell_type": "code",
      "source": [
        "sequences= []\n",
        "\n",
        "for i in range(3, len(sequence_data)):\n",
        "  words= sequence_data[i-3:i+1]\n",
        "  sequences.append(words)\n",
        "\n",
        "print(\"Length of sequences are: \", len(sequences))\n",
        "sequences= np.array(sequences)\n",
        "sequences[:10]"
      ],
      "metadata": {
        "colab": {
          "base_uri": "https://localhost:8080/"
        },
        "id": "yIfuoji1cI2I",
        "outputId": "7f30d525-d948-4e93-9338-c497b376a1d4"
      },
      "execution_count": null,
      "outputs": [
        {
          "output_type": "stream",
          "name": "stdout",
          "text": [
            "Length of sequences are:  111249\n"
          ]
        },
        {
          "output_type": "execute_result",
          "data": {
            "text/plain": [
              "array([[ 145, 4789,    1, 1020],\n",
              "       [4789,    1, 1020,    4],\n",
              "       [   1, 1020,    4,  128],\n",
              "       [1020,    4,  128,   34],\n",
              "       [   4,  128,   34,   45],\n",
              "       [ 128,   34,   45,  611],\n",
              "       [  34,   45,  611, 2235],\n",
              "       [  45,  611, 2235, 2236],\n",
              "       [ 611, 2235, 2236,   30],\n",
              "       [2235, 2236,   30, 1021]])"
            ]
          },
          "metadata": {},
          "execution_count": 9
        }
      ]
    },
    {
      "cell_type": "code",
      "source": [
        "X= []\n",
        "y= []\n",
        "\n",
        "for i in sequences:\n",
        "  X.append(i[0:3])\n",
        "  y.append(i[3])\n",
        "\n",
        "X= np.array(X)\n",
        "y= np.array(y)"
      ],
      "metadata": {
        "id": "F0lA0tMFcxzY"
      },
      "execution_count": null,
      "outputs": []
    },
    {
      "cell_type": "code",
      "source": [
        "print(\"Data: \",X[:10])\n",
        "print(\"Response: \",y[:10])"
      ],
      "metadata": {
        "colab": {
          "base_uri": "https://localhost:8080/"
        },
        "id": "B8Y8YAh6dPFX",
        "outputId": "7b8525eb-4749-4b59-a06d-82579deb965f"
      },
      "execution_count": null,
      "outputs": [
        {
          "output_type": "stream",
          "name": "stdout",
          "text": [
            "Data:  [[ 145 4789    1]\n",
            " [4789    1 1020]\n",
            " [   1 1020    4]\n",
            " [1020    4  128]\n",
            " [   4  128   34]\n",
            " [ 128   34   45]\n",
            " [  34   45  611]\n",
            " [  45  611 2235]\n",
            " [ 611 2235 2236]\n",
            " [2235 2236   30]]\n",
            "Response:  [1020    4  128   34   45  611 2235 2236   30 1021]\n"
          ]
        }
      ]
    },
    {
      "cell_type": "code",
      "source": [
        "y= to_categorical(y, num_classes= vocab_size)\n",
        "y[:5]"
      ],
      "metadata": {
        "colab": {
          "base_uri": "https://localhost:8080/"
        },
        "id": "CO5LdEbpdX6A",
        "outputId": "748e24cf-d1cc-4e74-dff3-b58393451fb9"
      },
      "execution_count": null,
      "outputs": [
        {
          "output_type": "execute_result",
          "data": {
            "text/plain": [
              "array([[0., 0., 0., ..., 0., 0., 0.],\n",
              "       [0., 0., 0., ..., 0., 0., 0.],\n",
              "       [0., 0., 0., ..., 0., 0., 0.],\n",
              "       [0., 0., 0., ..., 0., 0., 0.],\n",
              "       [0., 0., 0., ..., 0., 0., 0.]], dtype=float32)"
            ]
          },
          "metadata": {},
          "execution_count": 12
        }
      ]
    },
    {
      "cell_type": "code",
      "source": [
        "#creating model"
      ],
      "metadata": {
        "id": "S5pKVVnWdzqs"
      },
      "execution_count": null,
      "outputs": []
    },
    {
      "cell_type": "code",
      "source": [
        "model= Sequential()\n",
        "model.add(Embedding(vocab_size, 10, input_length=3))\n",
        "model.add(LSTM(1000, return_sequences=True))\n",
        "model.add(LSTM(1000))\n",
        "model.add(Dense(1000, activation= \"relu\"))\n",
        "model.add(Dense(vocab_size, activation= \"softmax\"))"
      ],
      "metadata": {
        "id": "RjWGd3kbd4pE"
      },
      "execution_count": null,
      "outputs": []
    },
    {
      "cell_type": "code",
      "source": [
        "model.summary()"
      ],
      "metadata": {
        "colab": {
          "base_uri": "https://localhost:8080/"
        },
        "id": "TUoEeJCMWtgN",
        "outputId": "f30a5556-1647-4318-cfd4-a87395cb26da"
      },
      "execution_count": null,
      "outputs": [
        {
          "output_type": "stream",
          "name": "stdout",
          "text": [
            "Model: \"sequential_1\"\n",
            "_________________________________________________________________\n",
            " Layer (type)                Output Shape              Param #   \n",
            "=================================================================\n",
            " embedding_1 (Embedding)     (None, 3, 10)             89310     \n",
            "                                                                 \n",
            " lstm_2 (LSTM)               (None, 3, 1000)           4044000   \n",
            "                                                                 \n",
            " lstm_3 (LSTM)               (None, 1000)              8004000   \n",
            "                                                                 \n",
            " dense_2 (Dense)             (None, 1000)              1001000   \n",
            "                                                                 \n",
            " dense_3 (Dense)             (None, 8931)              8939931   \n",
            "                                                                 \n",
            "=================================================================\n",
            "Total params: 22078241 (84.22 MB)\n",
            "Trainable params: 22078241 (84.22 MB)\n",
            "Non-trainable params: 0 (0.00 Byte)\n",
            "_________________________________________________________________\n"
          ]
        }
      ]
    },
    {
      "cell_type": "code",
      "source": [
        "#plotting the model\n",
        "#from tensorflow import keras\n",
        "#from keras.utils import plot_model\n",
        "#keras.utils.plot_model(model, to_file=\"plot.png\", show_layer_names= True)"
      ],
      "metadata": {
        "id": "yN7-FVtCXSP0"
      },
      "execution_count": null,
      "outputs": []
    },
    {
      "cell_type": "code",
      "source": [
        "#building model\n",
        "from tensorflow.keras.callbacks import ModelCheckpoint\n",
        "checkpoint= ModelCheckpoint(\"next_word.h5\", monitor= \"loss\", verbose=1, save_best_only=True)\n",
        "model.compile(loss=\"categorical_crossentropy\", optimizer= Adam(learning_rate= 0.001))\n",
        "model.fit(X,y, epochs=70, batch_size=64, callbacks=[checkpoint])\n"
      ],
      "metadata": {
        "colab": {
          "base_uri": "https://localhost:8080/"
        },
        "id": "u8MJPs3JXt3J",
        "outputId": "83ab8b40-cd96-4ff8-e287-a0a9847e43b3"
      },
      "execution_count": null,
      "outputs": [
        {
          "output_type": "stream",
          "name": "stdout",
          "text": [
            "Epoch 1/70\n",
            "1739/1739 [==============================] - ETA: 0s - loss: 6.4228\n",
            "Epoch 1: loss improved from inf to 6.42278, saving model to next_word.h5\n"
          ]
        },
        {
          "output_type": "stream",
          "name": "stderr",
          "text": [
            "/usr/local/lib/python3.10/dist-packages/keras/src/engine/training.py:3000: UserWarning: You are saving your model as an HDF5 file via `model.save()`. This file format is considered legacy. We recommend using instead the native Keras format, e.g. `model.save('my_model.keras')`.\n",
            "  saving_api.save_model(\n"
          ]
        },
        {
          "output_type": "stream",
          "name": "stdout",
          "text": [
            "\b\b\b\b\b\b\b\b\b\b\b\b\b\b\b\b\b\b\b\b\b\b\b\b\b\b\b\b\b\b\b\b\b\b\b\b\b\b\b\b\b\b\b\b\b\b\b\b\b\b\b\b\b\b\b\b\b\b\b\b\b\b\b\b\b\b\b\r1739/1739 [==============================] - 47s 22ms/step - loss: 6.4228\n",
            "Epoch 2/70\n",
            "1739/1739 [==============================] - ETA: 0s - loss: 5.7977\n",
            "Epoch 2: loss improved from 6.42278 to 5.79772, saving model to next_word.h5\n",
            "1739/1739 [==============================] - 30s 17ms/step - loss: 5.7977\n",
            "Epoch 3/70\n",
            "1739/1739 [==============================] - ETA: 0s - loss: 5.4493\n",
            "Epoch 3: loss improved from 5.79772 to 5.44929, saving model to next_word.h5\n",
            "1739/1739 [==============================] - 34s 20ms/step - loss: 5.4493\n",
            "Epoch 4/70\n",
            "1739/1739 [==============================] - ETA: 0s - loss: 5.1861\n",
            "Epoch 4: loss improved from 5.44929 to 5.18612, saving model to next_word.h5\n",
            "1739/1739 [==============================] - 31s 18ms/step - loss: 5.1861\n",
            "Epoch 5/70\n",
            "1739/1739 [==============================] - ETA: 0s - loss: 4.9625\n",
            "Epoch 5: loss improved from 5.18612 to 4.96246, saving model to next_word.h5\n",
            "1739/1739 [==============================] - 35s 20ms/step - loss: 4.9625\n",
            "Epoch 6/70\n",
            "1739/1739 [==============================] - ETA: 0s - loss: 4.7610\n",
            "Epoch 6: loss improved from 4.96246 to 4.76104, saving model to next_word.h5\n",
            "1739/1739 [==============================] - 30s 17ms/step - loss: 4.7610\n",
            "Epoch 7/70\n",
            "1739/1739 [==============================] - ETA: 0s - loss: 4.5662\n",
            "Epoch 7: loss improved from 4.76104 to 4.56619, saving model to next_word.h5\n",
            "1739/1739 [==============================] - 30s 17ms/step - loss: 4.5662\n",
            "Epoch 8/70\n",
            "1739/1739 [==============================] - ETA: 0s - loss: 4.3658\n",
            "Epoch 8: loss improved from 4.56619 to 4.36577, saving model to next_word.h5\n",
            "1739/1739 [==============================] - 31s 18ms/step - loss: 4.3658\n",
            "Epoch 9/70\n",
            "1739/1739 [==============================] - ETA: 0s - loss: 4.1628\n",
            "Epoch 9: loss improved from 4.36577 to 4.16283, saving model to next_word.h5\n",
            "1739/1739 [==============================] - 28s 16ms/step - loss: 4.1628\n",
            "Epoch 10/70\n",
            "1737/1739 [============================>.] - ETA: 0s - loss: 3.9568\n",
            "Epoch 10: loss improved from 4.16283 to 3.95714, saving model to next_word.h5\n",
            "1739/1739 [==============================] - 28s 16ms/step - loss: 3.9571\n",
            "Epoch 11/70\n",
            "1737/1739 [============================>.] - ETA: 0s - loss: 3.7417\n",
            "Epoch 11: loss improved from 3.95714 to 3.74173, saving model to next_word.h5\n",
            "1739/1739 [==============================] - 30s 17ms/step - loss: 3.7417\n",
            "Epoch 12/70\n",
            "1739/1739 [==============================] - ETA: 0s - loss: 3.5213\n",
            "Epoch 12: loss improved from 3.74173 to 3.52135, saving model to next_word.h5\n",
            "1739/1739 [==============================] - 34s 19ms/step - loss: 3.5213\n",
            "Epoch 13/70\n",
            "1737/1739 [============================>.] - ETA: 0s - loss: 3.3017\n",
            "Epoch 13: loss improved from 3.52135 to 3.30167, saving model to next_word.h5\n",
            "1739/1739 [==============================] - 32s 18ms/step - loss: 3.3017\n",
            "Epoch 14/70\n",
            "1739/1739 [==============================] - ETA: 0s - loss: 3.0799\n",
            "Epoch 14: loss improved from 3.30167 to 3.07994, saving model to next_word.h5\n",
            "1739/1739 [==============================] - 36s 20ms/step - loss: 3.0799\n",
            "Epoch 15/70\n",
            "1737/1739 [============================>.] - ETA: 0s - loss: 2.8662\n",
            "Epoch 15: loss improved from 3.07994 to 2.86628, saving model to next_word.h5\n",
            "1739/1739 [==============================] - 32s 18ms/step - loss: 2.8663\n",
            "Epoch 16/70\n",
            "1737/1739 [============================>.] - ETA: 0s - loss: 2.6532\n",
            "Epoch 16: loss improved from 2.86628 to 2.65313, saving model to next_word.h5\n",
            "1739/1739 [==============================] - 32s 19ms/step - loss: 2.6531\n",
            "Epoch 17/70\n",
            "1736/1739 [============================>.] - ETA: 0s - loss: 2.4399\n",
            "Epoch 17: loss improved from 2.65313 to 2.43996, saving model to next_word.h5\n",
            "1739/1739 [==============================] - 28s 16ms/step - loss: 2.4400\n",
            "Epoch 18/70\n",
            "1739/1739 [==============================] - ETA: 0s - loss: 2.2315\n",
            "Epoch 18: loss improved from 2.43996 to 2.23153, saving model to next_word.h5\n",
            "1739/1739 [==============================] - 28s 16ms/step - loss: 2.2315\n",
            "Epoch 19/70\n",
            "1739/1739 [==============================] - ETA: 0s - loss: 2.0254\n",
            "Epoch 19: loss improved from 2.23153 to 2.02535, saving model to next_word.h5\n",
            "1739/1739 [==============================] - 28s 16ms/step - loss: 2.0254\n",
            "Epoch 20/70\n",
            "1737/1739 [============================>.] - ETA: 0s - loss: 1.8393\n",
            "Epoch 20: loss improved from 2.02535 to 1.83946, saving model to next_word.h5\n",
            "1739/1739 [==============================] - 28s 16ms/step - loss: 1.8395\n",
            "Epoch 21/70\n",
            "1736/1739 [============================>.] - ETA: 0s - loss: 1.6559\n",
            "Epoch 21: loss improved from 1.83946 to 1.65617, saving model to next_word.h5\n",
            "1739/1739 [==============================] - 28s 16ms/step - loss: 1.6562\n",
            "Epoch 22/70\n",
            "1738/1739 [============================>.] - ETA: 0s - loss: 1.4961\n",
            "Epoch 22: loss improved from 1.65617 to 1.49610, saving model to next_word.h5\n",
            "1739/1739 [==============================] - 28s 16ms/step - loss: 1.4961\n",
            "Epoch 23/70\n",
            "1739/1739 [==============================] - ETA: 0s - loss: 1.3438\n",
            "Epoch 23: loss improved from 1.49610 to 1.34384, saving model to next_word.h5\n",
            "1739/1739 [==============================] - 28s 16ms/step - loss: 1.3438\n",
            "Epoch 24/70\n",
            "1737/1739 [============================>.] - ETA: 0s - loss: 1.2180\n",
            "Epoch 24: loss improved from 1.34384 to 1.21830, saving model to next_word.h5\n",
            "1739/1739 [==============================] - 28s 16ms/step - loss: 1.2183\n",
            "Epoch 25/70\n",
            "1736/1739 [============================>.] - ETA: 0s - loss: 1.1057\n",
            "Epoch 25: loss improved from 1.21830 to 1.10582, saving model to next_word.h5\n",
            "1739/1739 [==============================] - 28s 16ms/step - loss: 1.1058\n",
            "Epoch 26/70\n",
            "1738/1739 [============================>.] - ETA: 0s - loss: 1.0168\n",
            "Epoch 26: loss improved from 1.10582 to 1.01677, saving model to next_word.h5\n",
            "1739/1739 [==============================] - 32s 18ms/step - loss: 1.0168\n",
            "Epoch 27/70\n",
            "1738/1739 [============================>.] - ETA: 0s - loss: 0.9379\n",
            "Epoch 27: loss improved from 1.01677 to 0.93788, saving model to next_word.h5\n",
            "1739/1739 [==============================] - 28s 16ms/step - loss: 0.9379\n",
            "Epoch 28/70\n",
            "1737/1739 [============================>.] - ETA: 0s - loss: 0.8739\n",
            "Epoch 28: loss improved from 0.93788 to 0.87397, saving model to next_word.h5\n",
            "1739/1739 [==============================] - 29s 16ms/step - loss: 0.8740\n",
            "Epoch 29/70\n",
            "1739/1739 [==============================] - ETA: 0s - loss: 0.8209\n",
            "Epoch 29: loss improved from 0.87397 to 0.82090, saving model to next_word.h5\n",
            "1739/1739 [==============================] - 28s 16ms/step - loss: 0.8209\n",
            "Epoch 30/70\n",
            "1737/1739 [============================>.] - ETA: 0s - loss: 0.7774\n",
            "Epoch 30: loss improved from 0.82090 to 0.77745, saving model to next_word.h5\n",
            "1739/1739 [==============================] - 29s 17ms/step - loss: 0.7774\n",
            "Epoch 31/70\n",
            "1738/1739 [============================>.] - ETA: 0s - loss: 0.7464\n",
            "Epoch 31: loss improved from 0.77745 to 0.74639, saving model to next_word.h5\n",
            "1739/1739 [==============================] - 30s 17ms/step - loss: 0.7464\n",
            "Epoch 32/70\n",
            "1738/1739 [============================>.] - ETA: 0s - loss: 0.7080\n",
            "Epoch 32: loss improved from 0.74639 to 0.70805, saving model to next_word.h5\n",
            "1739/1739 [==============================] - 30s 17ms/step - loss: 0.7080\n",
            "Epoch 33/70\n",
            "1739/1739 [==============================] - ETA: 0s - loss: 0.6848\n",
            "Epoch 33: loss improved from 0.70805 to 0.68483, saving model to next_word.h5\n",
            "1739/1739 [==============================] - 28s 16ms/step - loss: 0.6848\n",
            "Epoch 34/70\n",
            "1739/1739 [==============================] - ETA: 0s - loss: 0.6619\n",
            "Epoch 34: loss improved from 0.68483 to 0.66195, saving model to next_word.h5\n",
            "1739/1739 [==============================] - 32s 18ms/step - loss: 0.6619\n",
            "Epoch 35/70\n",
            "1736/1739 [============================>.] - ETA: 0s - loss: 0.6422\n",
            "Epoch 35: loss improved from 0.66195 to 0.64245, saving model to next_word.h5\n",
            "1739/1739 [==============================] - 30s 17ms/step - loss: 0.6424\n",
            "Epoch 36/70\n",
            "1737/1739 [============================>.] - ETA: 0s - loss: 0.6278\n",
            "Epoch 36: loss improved from 0.64245 to 0.62789, saving model to next_word.h5\n",
            "1739/1739 [==============================] - 30s 17ms/step - loss: 0.6279\n",
            "Epoch 37/70\n",
            "1737/1739 [============================>.] - ETA: 0s - loss: 0.6058\n",
            "Epoch 37: loss improved from 0.62789 to 0.60574, saving model to next_word.h5\n",
            "1739/1739 [==============================] - 30s 17ms/step - loss: 0.6057\n",
            "Epoch 38/70\n",
            "1739/1739 [==============================] - ETA: 0s - loss: 0.5953\n",
            "Epoch 38: loss improved from 0.60574 to 0.59532, saving model to next_word.h5\n",
            "1739/1739 [==============================] - 28s 16ms/step - loss: 0.5953\n",
            "Epoch 39/70\n",
            "1738/1739 [============================>.] - ETA: 0s - loss: 0.5823\n",
            "Epoch 39: loss improved from 0.59532 to 0.58227, saving model to next_word.h5\n",
            "1739/1739 [==============================] - 28s 16ms/step - loss: 0.5823\n",
            "Epoch 40/70\n",
            "1739/1739 [==============================] - ETA: 0s - loss: 0.5711\n",
            "Epoch 40: loss improved from 0.58227 to 0.57113, saving model to next_word.h5\n",
            "1739/1739 [==============================] - 31s 18ms/step - loss: 0.5711\n",
            "Epoch 41/70\n",
            "1737/1739 [============================>.] - ETA: 0s - loss: 0.5599\n",
            "Epoch 41: loss improved from 0.57113 to 0.56004, saving model to next_word.h5\n",
            "1739/1739 [==============================] - 29s 16ms/step - loss: 0.5600\n",
            "Epoch 42/70\n",
            "1739/1739 [==============================] - ETA: 0s - loss: 0.5508\n",
            "Epoch 42: loss improved from 0.56004 to 0.55085, saving model to next_word.h5\n",
            "1739/1739 [==============================] - 31s 18ms/step - loss: 0.5508\n",
            "Epoch 43/70\n",
            "1738/1739 [============================>.] - ETA: 0s - loss: 0.5443\n",
            "Epoch 43: loss improved from 0.55085 to 0.54432, saving model to next_word.h5\n",
            "1739/1739 [==============================] - 32s 18ms/step - loss: 0.5443\n",
            "Epoch 44/70\n",
            "1739/1739 [==============================] - ETA: 0s - loss: 0.5321\n",
            "Epoch 44: loss improved from 0.54432 to 0.53209, saving model to next_word.h5\n",
            "1739/1739 [==============================] - 28s 16ms/step - loss: 0.5321\n",
            "Epoch 45/70\n",
            "1739/1739 [==============================] - ETA: 0s - loss: 0.5243\n",
            "Epoch 45: loss improved from 0.53209 to 0.52435, saving model to next_word.h5\n",
            "1739/1739 [==============================] - 32s 18ms/step - loss: 0.5243\n",
            "Epoch 46/70\n",
            "1739/1739 [==============================] - ETA: 0s - loss: 0.5189\n",
            "Epoch 46: loss improved from 0.52435 to 0.51893, saving model to next_word.h5\n",
            "1739/1739 [==============================] - 29s 16ms/step - loss: 0.5189\n",
            "Epoch 47/70\n",
            "1737/1739 [============================>.] - ETA: 0s - loss: 0.5121\n",
            "Epoch 47: loss improved from 0.51893 to 0.51213, saving model to next_word.h5\n",
            "1739/1739 [==============================] - 31s 18ms/step - loss: 0.5121\n",
            "Epoch 48/70\n",
            "1737/1739 [============================>.] - ETA: 0s - loss: 0.5046\n",
            "Epoch 48: loss improved from 0.51213 to 0.50468, saving model to next_word.h5\n",
            "1739/1739 [==============================] - 30s 17ms/step - loss: 0.5047\n",
            "Epoch 49/70\n",
            "1737/1739 [============================>.] - ETA: 0s - loss: 0.5004\n",
            "Epoch 49: loss improved from 0.50468 to 0.50039, saving model to next_word.h5\n",
            "1739/1739 [==============================] - 30s 17ms/step - loss: 0.5004\n",
            "Epoch 50/70\n",
            "1739/1739 [==============================] - ETA: 0s - loss: 0.4925\n",
            "Epoch 50: loss improved from 0.50039 to 0.49255, saving model to next_word.h5\n",
            "1739/1739 [==============================] - 30s 17ms/step - loss: 0.4925\n",
            "Epoch 51/70\n",
            "1739/1739 [==============================] - ETA: 0s - loss: 0.4889\n",
            "Epoch 51: loss improved from 0.49255 to 0.48888, saving model to next_word.h5\n",
            "1739/1739 [==============================] - 30s 17ms/step - loss: 0.4889\n",
            "Epoch 52/70\n",
            "1739/1739 [==============================] - ETA: 0s - loss: 0.4818\n",
            "Epoch 52: loss improved from 0.48888 to 0.48183, saving model to next_word.h5\n",
            "1739/1739 [==============================] - 30s 17ms/step - loss: 0.4818\n",
            "Epoch 53/70\n",
            "1737/1739 [============================>.] - ETA: 0s - loss: 0.4807\n",
            "Epoch 53: loss improved from 0.48183 to 0.48069, saving model to next_word.h5\n",
            "1739/1739 [==============================] - 30s 17ms/step - loss: 0.4807\n",
            "Epoch 54/70\n",
            "1738/1739 [============================>.] - ETA: 0s - loss: 0.4717\n",
            "Epoch 54: loss improved from 0.48069 to 0.47165, saving model to next_word.h5\n",
            "1739/1739 [==============================] - 30s 17ms/step - loss: 0.4717\n",
            "Epoch 55/70\n",
            "1739/1739 [==============================] - ETA: 0s - loss: 0.4666\n",
            "Epoch 55: loss improved from 0.47165 to 0.46663, saving model to next_word.h5\n",
            "1739/1739 [==============================] - 30s 17ms/step - loss: 0.4666\n",
            "Epoch 56/70\n",
            "1739/1739 [==============================] - ETA: 0s - loss: 0.4640\n",
            "Epoch 56: loss improved from 0.46663 to 0.46396, saving model to next_word.h5\n",
            "1739/1739 [==============================] - 29s 16ms/step - loss: 0.4640\n",
            "Epoch 57/70\n",
            "1738/1739 [============================>.] - ETA: 0s - loss: 0.4628\n",
            "Epoch 57: loss improved from 0.46396 to 0.46282, saving model to next_word.h5\n",
            "1739/1739 [==============================] - 31s 18ms/step - loss: 0.4628\n",
            "Epoch 58/70\n",
            "1737/1739 [============================>.] - ETA: 0s - loss: 0.4594\n",
            "Epoch 58: loss improved from 0.46282 to 0.45923, saving model to next_word.h5\n",
            "1739/1739 [==============================] - 30s 17ms/step - loss: 0.4592\n",
            "Epoch 59/70\n",
            "1738/1739 [============================>.] - ETA: 0s - loss: 0.4528\n",
            "Epoch 59: loss improved from 0.45923 to 0.45277, saving model to next_word.h5\n",
            "1739/1739 [==============================] - 32s 18ms/step - loss: 0.4528\n",
            "Epoch 60/70\n",
            "1739/1739 [==============================] - ETA: 0s - loss: 0.4485\n",
            "Epoch 60: loss improved from 0.45277 to 0.44847, saving model to next_word.h5\n",
            "1739/1739 [==============================] - 33s 19ms/step - loss: 0.4485\n",
            "Epoch 61/70\n",
            "1737/1739 [============================>.] - ETA: 0s - loss: 0.4473\n",
            "Epoch 61: loss improved from 0.44847 to 0.44736, saving model to next_word.h5\n",
            "1739/1739 [==============================] - 32s 19ms/step - loss: 0.4474\n",
            "Epoch 62/70\n",
            "1738/1739 [============================>.] - ETA: 0s - loss: 0.4429\n",
            "Epoch 62: loss improved from 0.44736 to 0.44288, saving model to next_word.h5\n",
            "1739/1739 [==============================] - 30s 17ms/step - loss: 0.4429\n",
            "Epoch 63/70\n",
            "1739/1739 [==============================] - ETA: 0s - loss: 0.4389\n",
            "Epoch 63: loss improved from 0.44288 to 0.43895, saving model to next_word.h5\n",
            "1739/1739 [==============================] - 31s 18ms/step - loss: 0.4389\n",
            "Epoch 64/70\n",
            "1739/1739 [==============================] - ETA: 0s - loss: 0.4383\n",
            "Epoch 64: loss improved from 0.43895 to 0.43834, saving model to next_word.h5\n",
            "1739/1739 [==============================] - 29s 17ms/step - loss: 0.4383\n",
            "Epoch 65/70\n",
            "1737/1739 [============================>.] - ETA: 0s - loss: 0.4356\n",
            "Epoch 65: loss improved from 0.43834 to 0.43591, saving model to next_word.h5\n",
            "1739/1739 [==============================] - 30s 18ms/step - loss: 0.4359\n",
            "Epoch 66/70\n",
            "1737/1739 [============================>.] - ETA: 0s - loss: 0.4302\n",
            "Epoch 66: loss improved from 0.43591 to 0.43036, saving model to next_word.h5\n",
            "1739/1739 [==============================] - 30s 17ms/step - loss: 0.4304\n",
            "Epoch 67/70\n",
            "1739/1739 [==============================] - ETA: 0s - loss: 0.4283\n",
            "Epoch 67: loss improved from 0.43036 to 0.42831, saving model to next_word.h5\n",
            "1739/1739 [==============================] - 31s 18ms/step - loss: 0.4283\n",
            "Epoch 68/70\n",
            "1739/1739 [==============================] - ETA: 0s - loss: 0.4283\n",
            "Epoch 68: loss improved from 0.42831 to 0.42827, saving model to next_word.h5\n",
            "1739/1739 [==============================] - 33s 19ms/step - loss: 0.4283\n",
            "Epoch 69/70\n",
            "1737/1739 [============================>.] - ETA: 0s - loss: 0.4213\n",
            "Epoch 69: loss improved from 0.42827 to 0.42145, saving model to next_word.h5\n",
            "1739/1739 [==============================] - 33s 19ms/step - loss: 0.4215\n",
            "Epoch 70/70\n",
            "1739/1739 [==============================] - ETA: 0s - loss: 0.4219\n",
            "Epoch 70: loss did not improve from 0.42145\n",
            "1739/1739 [==============================] - 28s 16ms/step - loss: 0.4219\n"
          ]
        },
        {
          "output_type": "execute_result",
          "data": {
            "text/plain": [
              "<keras.src.callbacks.History at 0x79b4f297dd80>"
            ]
          },
          "metadata": {},
          "execution_count": 22
        }
      ]
    },
    {
      "cell_type": "code",
      "source": [
        "#predicting\n",
        "from tensorflow.keras.models import load_model\n",
        "import numpy as np\n",
        "import pickle\n",
        "\n",
        "#loading the model and tokenizer\n",
        "model= load_model(\"next_word.h5\")\n",
        "tokenizer= pickle.load(open(\"token.pkl\", \"rb\"))\n",
        "\n",
        "def Predict_Next_Words(model, tokenizer, text):\n",
        "  sequence= tokenizer.texts_to_sequences([text])\n",
        "  sequence= np.array(sequence)\n",
        "  preds= np.argmax(model.predict(sequence))\n",
        "  predicted_word= \"\"\n",
        "\n",
        "  for key, value in tokenizer.word_index.items():\n",
        "    if value==preds:\n",
        "      predicted_word= key\n",
        "      break\n",
        "  print(predicted_word)\n",
        "  return predicted_word"
      ],
      "metadata": {
        "id": "JpsRfjhcY5CX"
      },
      "execution_count": null,
      "outputs": []
    },
    {
      "cell_type": "code",
      "source": [
        "while(True):\n",
        "  text= input(\"Enter your line: \")\n",
        "\n",
        "  if text == \"0\":\n",
        "    print(\"Execution completed.....\")\n",
        "    break\n",
        "\n",
        "  else:\n",
        "    try:\n",
        "      text = text.split(\" \")\n",
        "      text = text[-3:]\n",
        "      print(text)\n",
        "\n",
        "      Predict_Next_Words(model, tokenizer, text)\n",
        "\n",
        "    except Exception as e:\n",
        "      print(\"Error occurred: \",e)\n",
        "      continue\n"
      ],
      "metadata": {
        "colab": {
          "base_uri": "https://localhost:8080/",
          "height": 668
        },
        "id": "_kfuxjNtaRAH",
        "outputId": "2971f631-0e63-423c-dcfc-4903a1ca3979"
      },
      "execution_count": null,
      "outputs": [
        {
          "output_type": "stream",
          "name": "stdout",
          "text": [
            "Enter your line: extraordinary powers of\n",
            "['extraordinary', 'powers', 'of']\n",
            "1/1 [==============================] - 1s 705ms/step\n",
            "observation\n",
            "Enter your line: threw across his case of\n",
            "['his', 'case', 'of']\n",
            "1/1 [==============================] - 0s 18ms/step\n",
            "cigars\n",
            "Enter your line: When I hear you give your\n",
            "['you', 'give', 'your']\n",
            "1/1 [==============================] - 0s 20ms/step\n",
            "casting\n",
            "Enter your line: since you are interested in these\n",
            "['interested', 'in', 'these']\n",
            "1/1 [==============================] - 0s 22ms/step\n",
            "little\n"
          ]
        },
        {
          "output_type": "error",
          "ename": "KeyboardInterrupt",
          "evalue": "ignored",
          "traceback": [
            "\u001b[0;31m---------------------------------------------------------------------------\u001b[0m",
            "\u001b[0;31mKeyboardInterrupt\u001b[0m                         Traceback (most recent call last)",
            "\u001b[0;32m<ipython-input-28-9b9b54b3b53c>\u001b[0m in \u001b[0;36m<cell line: 1>\u001b[0;34m()\u001b[0m\n\u001b[1;32m      1\u001b[0m \u001b[0;32mwhile\u001b[0m\u001b[0;34m(\u001b[0m\u001b[0;32mTrue\u001b[0m\u001b[0;34m)\u001b[0m\u001b[0;34m:\u001b[0m\u001b[0;34m\u001b[0m\u001b[0;34m\u001b[0m\u001b[0m\n\u001b[0;32m----> 2\u001b[0;31m   \u001b[0mtext\u001b[0m\u001b[0;34m=\u001b[0m \u001b[0minput\u001b[0m\u001b[0;34m(\u001b[0m\u001b[0;34m\"Enter your line: \"\u001b[0m\u001b[0;34m)\u001b[0m\u001b[0;34m\u001b[0m\u001b[0;34m\u001b[0m\u001b[0m\n\u001b[0m\u001b[1;32m      3\u001b[0m \u001b[0;34m\u001b[0m\u001b[0m\n\u001b[1;32m      4\u001b[0m   \u001b[0;32mif\u001b[0m \u001b[0mtext\u001b[0m \u001b[0;34m==\u001b[0m \u001b[0;34m\"0\"\u001b[0m\u001b[0;34m:\u001b[0m\u001b[0;34m\u001b[0m\u001b[0;34m\u001b[0m\u001b[0m\n\u001b[1;32m      5\u001b[0m     \u001b[0mprint\u001b[0m\u001b[0;34m(\u001b[0m\u001b[0;34m\"Execution completed.....\"\u001b[0m\u001b[0;34m)\u001b[0m\u001b[0;34m\u001b[0m\u001b[0;34m\u001b[0m\u001b[0m\n",
            "\u001b[0;32m/usr/local/lib/python3.10/dist-packages/ipykernel/kernelbase.py\u001b[0m in \u001b[0;36mraw_input\u001b[0;34m(self, prompt)\u001b[0m\n\u001b[1;32m    849\u001b[0m                 \u001b[0;34m\"raw_input was called, but this frontend does not support input requests.\"\u001b[0m\u001b[0;34m\u001b[0m\u001b[0;34m\u001b[0m\u001b[0m\n\u001b[1;32m    850\u001b[0m             )\n\u001b[0;32m--> 851\u001b[0;31m         return self._input_request(str(prompt),\n\u001b[0m\u001b[1;32m    852\u001b[0m             \u001b[0mself\u001b[0m\u001b[0;34m.\u001b[0m\u001b[0m_parent_ident\u001b[0m\u001b[0;34m,\u001b[0m\u001b[0;34m\u001b[0m\u001b[0;34m\u001b[0m\u001b[0m\n\u001b[1;32m    853\u001b[0m             \u001b[0mself\u001b[0m\u001b[0;34m.\u001b[0m\u001b[0m_parent_header\u001b[0m\u001b[0;34m,\u001b[0m\u001b[0;34m\u001b[0m\u001b[0;34m\u001b[0m\u001b[0m\n",
            "\u001b[0;32m/usr/local/lib/python3.10/dist-packages/ipykernel/kernelbase.py\u001b[0m in \u001b[0;36m_input_request\u001b[0;34m(self, prompt, ident, parent, password)\u001b[0m\n\u001b[1;32m    893\u001b[0m             \u001b[0;32mexcept\u001b[0m \u001b[0mKeyboardInterrupt\u001b[0m\u001b[0;34m:\u001b[0m\u001b[0;34m\u001b[0m\u001b[0;34m\u001b[0m\u001b[0m\n\u001b[1;32m    894\u001b[0m                 \u001b[0;31m# re-raise KeyboardInterrupt, to truncate traceback\u001b[0m\u001b[0;34m\u001b[0m\u001b[0;34m\u001b[0m\u001b[0m\n\u001b[0;32m--> 895\u001b[0;31m                 \u001b[0;32mraise\u001b[0m \u001b[0mKeyboardInterrupt\u001b[0m\u001b[0;34m(\u001b[0m\u001b[0;34m\"Interrupted by user\"\u001b[0m\u001b[0;34m)\u001b[0m \u001b[0;32mfrom\u001b[0m \u001b[0;32mNone\u001b[0m\u001b[0;34m\u001b[0m\u001b[0;34m\u001b[0m\u001b[0m\n\u001b[0m\u001b[1;32m    896\u001b[0m             \u001b[0;32mexcept\u001b[0m \u001b[0mException\u001b[0m \u001b[0;32mas\u001b[0m \u001b[0me\u001b[0m\u001b[0;34m:\u001b[0m\u001b[0;34m\u001b[0m\u001b[0;34m\u001b[0m\u001b[0m\n\u001b[1;32m    897\u001b[0m                 \u001b[0mself\u001b[0m\u001b[0;34m.\u001b[0m\u001b[0mlog\u001b[0m\u001b[0;34m.\u001b[0m\u001b[0mwarning\u001b[0m\u001b[0;34m(\u001b[0m\u001b[0;34m\"Invalid Message:\"\u001b[0m\u001b[0;34m,\u001b[0m \u001b[0mexc_info\u001b[0m\u001b[0;34m=\u001b[0m\u001b[0;32mTrue\u001b[0m\u001b[0;34m)\u001b[0m\u001b[0;34m\u001b[0m\u001b[0;34m\u001b[0m\u001b[0m\n",
            "\u001b[0;31mKeyboardInterrupt\u001b[0m: Interrupted by user"
          ]
        }
      ]
    },
    {
      "cell_type": "code",
      "source": [],
      "metadata": {
        "id": "ET1T2g95a069"
      },
      "execution_count": null,
      "outputs": []
    }
  ]
}